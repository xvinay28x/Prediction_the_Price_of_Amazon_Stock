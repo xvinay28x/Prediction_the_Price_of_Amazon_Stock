{
 "cells": [
  {
   "cell_type": "markdown",
   "metadata": {},
   "source": [
    "# Prediction of amazon 1 stock price in dollar"
   ]
  },
  {
   "cell_type": "code",
   "execution_count": 1,
   "metadata": {},
   "outputs": [],
   "source": [
    "import pandas as pd\n",
    "import numpy as np\n",
    "from sklearn import linear_model\n",
    "import matplotlib.pyplot\n",
    "import sklearn.metrics as metrics"
   ]
  },
  {
   "cell_type": "code",
   "execution_count": 2,
   "metadata": {},
   "outputs": [],
   "source": [
    "df = pd.read_csv(\"AMZN.csv\")"
   ]
  },
  {
   "cell_type": "code",
   "execution_count": 3,
   "metadata": {},
   "outputs": [
    {
     "data": {
      "text/html": [
       "<div>\n",
       "<style scoped>\n",
       "    .dataframe tbody tr th:only-of-type {\n",
       "        vertical-align: middle;\n",
       "    }\n",
       "\n",
       "    .dataframe tbody tr th {\n",
       "        vertical-align: top;\n",
       "    }\n",
       "\n",
       "    .dataframe thead th {\n",
       "        text-align: right;\n",
       "    }\n",
       "</style>\n",
       "<table border=\"1\" class=\"dataframe\">\n",
       "  <thead>\n",
       "    <tr style=\"text-align: right;\">\n",
       "      <th></th>\n",
       "      <th>Full_Date</th>\n",
       "      <th>Date</th>\n",
       "      <th>Month</th>\n",
       "      <th>Year</th>\n",
       "      <th>Open</th>\n",
       "      <th>High</th>\n",
       "      <th>Low</th>\n",
       "      <th>Close</th>\n",
       "      <th>Adj Close</th>\n",
       "      <th>Volume</th>\n",
       "    </tr>\n",
       "  </thead>\n",
       "  <tbody>\n",
       "    <tr>\n",
       "      <th>0</th>\n",
       "      <td>21-01-20</td>\n",
       "      <td>21</td>\n",
       "      <td>1</td>\n",
       "      <td>20</td>\n",
       "      <td>1865.000000</td>\n",
       "      <td>1894.27002</td>\n",
       "      <td>1860.000000</td>\n",
       "      <td>1892.000000</td>\n",
       "      <td>1892.000000</td>\n",
       "      <td>3707800</td>\n",
       "    </tr>\n",
       "    <tr>\n",
       "      <th>1</th>\n",
       "      <td>22-01-20</td>\n",
       "      <td>22</td>\n",
       "      <td>1</td>\n",
       "      <td>20</td>\n",
       "      <td>1896.089966</td>\n",
       "      <td>1902.50000</td>\n",
       "      <td>1883.339966</td>\n",
       "      <td>1887.459961</td>\n",
       "      <td>1887.459961</td>\n",
       "      <td>3216300</td>\n",
       "    </tr>\n",
       "    <tr>\n",
       "      <th>2</th>\n",
       "      <td>23-01-20</td>\n",
       "      <td>23</td>\n",
       "      <td>1</td>\n",
       "      <td>20</td>\n",
       "      <td>1885.109985</td>\n",
       "      <td>1889.97998</td>\n",
       "      <td>1872.760010</td>\n",
       "      <td>1884.579956</td>\n",
       "      <td>1884.579956</td>\n",
       "      <td>2484600</td>\n",
       "    </tr>\n",
       "    <tr>\n",
       "      <th>3</th>\n",
       "      <td>24-01-20</td>\n",
       "      <td>24</td>\n",
       "      <td>1</td>\n",
       "      <td>20</td>\n",
       "      <td>1891.369995</td>\n",
       "      <td>1894.98999</td>\n",
       "      <td>1847.439941</td>\n",
       "      <td>1861.640015</td>\n",
       "      <td>1861.640015</td>\n",
       "      <td>3766200</td>\n",
       "    </tr>\n",
       "    <tr>\n",
       "      <th>4</th>\n",
       "      <td>27-01-20</td>\n",
       "      <td>27</td>\n",
       "      <td>1</td>\n",
       "      <td>20</td>\n",
       "      <td>1820.000000</td>\n",
       "      <td>1841.00000</td>\n",
       "      <td>1815.339966</td>\n",
       "      <td>1828.339966</td>\n",
       "      <td>1828.339966</td>\n",
       "      <td>3528500</td>\n",
       "    </tr>\n",
       "  </tbody>\n",
       "</table>\n",
       "</div>"
      ],
      "text/plain": [
       "  Full_Date  Date  Month  Year         Open        High          Low  \\\n",
       "0  21-01-20    21      1    20  1865.000000  1894.27002  1860.000000   \n",
       "1  22-01-20    22      1    20  1896.089966  1902.50000  1883.339966   \n",
       "2  23-01-20    23      1    20  1885.109985  1889.97998  1872.760010   \n",
       "3  24-01-20    24      1    20  1891.369995  1894.98999  1847.439941   \n",
       "4  27-01-20    27      1    20  1820.000000  1841.00000  1815.339966   \n",
       "\n",
       "         Close    Adj Close   Volume  \n",
       "0  1892.000000  1892.000000  3707800  \n",
       "1  1887.459961  1887.459961  3216300  \n",
       "2  1884.579956  1884.579956  2484600  \n",
       "3  1861.640015  1861.640015  3766200  \n",
       "4  1828.339966  1828.339966  3528500  "
      ]
     },
     "execution_count": 3,
     "metadata": {},
     "output_type": "execute_result"
    }
   ],
   "source": [
    "df.head()"
   ]
  },
  {
   "cell_type": "code",
   "execution_count": 4,
   "metadata": {},
   "outputs": [
    {
     "data": {
      "text/plain": [
       "Full_Date    0\n",
       "Date         0\n",
       "Month        0\n",
       "Year         0\n",
       "Open         0\n",
       "High         0\n",
       "Low          0\n",
       "Close        0\n",
       "Adj Close    0\n",
       "Volume       0\n",
       "dtype: int64"
      ]
     },
     "execution_count": 4,
     "metadata": {},
     "output_type": "execute_result"
    }
   ],
   "source": [
    "df.isnull().sum() # it means we dont have any null value"
   ]
  },
  {
   "cell_type": "markdown",
   "metadata": {},
   "source": [
    "### it means we dont have any null value"
   ]
  },
  {
   "cell_type": "code",
   "execution_count": 5,
   "metadata": {},
   "outputs": [
    {
     "data": {
      "text/html": [
       "<div>\n",
       "<style scoped>\n",
       "    .dataframe tbody tr th:only-of-type {\n",
       "        vertical-align: middle;\n",
       "    }\n",
       "\n",
       "    .dataframe tbody tr th {\n",
       "        vertical-align: top;\n",
       "    }\n",
       "\n",
       "    .dataframe thead th {\n",
       "        text-align: right;\n",
       "    }\n",
       "</style>\n",
       "<table border=\"1\" class=\"dataframe\">\n",
       "  <thead>\n",
       "    <tr style=\"text-align: right;\">\n",
       "      <th></th>\n",
       "      <th>Date</th>\n",
       "      <th>Month</th>\n",
       "      <th>Year</th>\n",
       "      <th>Open</th>\n",
       "      <th>High</th>\n",
       "      <th>Low</th>\n",
       "      <th>Close</th>\n",
       "      <th>Adj Close</th>\n",
       "      <th>Volume</th>\n",
       "    </tr>\n",
       "  </thead>\n",
       "  <tbody>\n",
       "    <tr>\n",
       "      <th>count</th>\n",
       "      <td>252.000000</td>\n",
       "      <td>252.000000</td>\n",
       "      <td>252.000000</td>\n",
       "      <td>252.000000</td>\n",
       "      <td>252.000000</td>\n",
       "      <td>252.000000</td>\n",
       "      <td>252.000000</td>\n",
       "      <td>252.000000</td>\n",
       "      <td>2.520000e+02</td>\n",
       "    </tr>\n",
       "    <tr>\n",
       "      <th>mean</th>\n",
       "      <td>15.861111</td>\n",
       "      <td>6.567460</td>\n",
       "      <td>20.043651</td>\n",
       "      <td>2739.571112</td>\n",
       "      <td>2776.422652</td>\n",
       "      <td>2699.995594</td>\n",
       "      <td>2739.181781</td>\n",
       "      <td>2739.181781</td>\n",
       "      <td>4.944863e+06</td>\n",
       "    </tr>\n",
       "    <tr>\n",
       "      <th>std</th>\n",
       "      <td>8.818249</td>\n",
       "      <td>3.436303</td>\n",
       "      <td>0.204724</td>\n",
       "      <td>530.381767</td>\n",
       "      <td>531.536544</td>\n",
       "      <td>520.380001</td>\n",
       "      <td>524.432453</td>\n",
       "      <td>524.432453</td>\n",
       "      <td>1.972080e+06</td>\n",
       "    </tr>\n",
       "    <tr>\n",
       "      <th>min</th>\n",
       "      <td>1.000000</td>\n",
       "      <td>1.000000</td>\n",
       "      <td>20.000000</td>\n",
       "      <td>1641.510010</td>\n",
       "      <td>1759.449951</td>\n",
       "      <td>1626.030029</td>\n",
       "      <td>1676.609985</td>\n",
       "      <td>1676.609985</td>\n",
       "      <td>1.451900e+06</td>\n",
       "    </tr>\n",
       "    <tr>\n",
       "      <th>25%</th>\n",
       "      <td>8.000000</td>\n",
       "      <td>4.000000</td>\n",
       "      <td>20.000000</td>\n",
       "      <td>2335.102539</td>\n",
       "      <td>2361.192444</td>\n",
       "      <td>2299.414978</td>\n",
       "      <td>2317.347534</td>\n",
       "      <td>2317.347534</td>\n",
       "      <td>3.509825e+06</td>\n",
       "    </tr>\n",
       "    <tr>\n",
       "      <th>50%</th>\n",
       "      <td>16.000000</td>\n",
       "      <td>7.000000</td>\n",
       "      <td>20.000000</td>\n",
       "      <td>3026.800049</td>\n",
       "      <td>3075.994995</td>\n",
       "      <td>2972.864991</td>\n",
       "      <td>3008.890015</td>\n",
       "      <td>3008.890015</td>\n",
       "      <td>4.528100e+06</td>\n",
       "    </tr>\n",
       "    <tr>\n",
       "      <th>75%</th>\n",
       "      <td>23.000000</td>\n",
       "      <td>10.000000</td>\n",
       "      <td>20.000000</td>\n",
       "      <td>3180.635010</td>\n",
       "      <td>3208.937500</td>\n",
       "      <td>3135.369995</td>\n",
       "      <td>3173.029968</td>\n",
       "      <td>3173.029968</td>\n",
       "      <td>5.792000e+06</td>\n",
       "    </tr>\n",
       "    <tr>\n",
       "      <th>max</th>\n",
       "      <td>31.000000</td>\n",
       "      <td>12.000000</td>\n",
       "      <td>21.000000</td>\n",
       "      <td>3547.000000</td>\n",
       "      <td>3552.250000</td>\n",
       "      <td>3486.689941</td>\n",
       "      <td>3531.449951</td>\n",
       "      <td>3531.449951</td>\n",
       "      <td>1.556730e+07</td>\n",
       "    </tr>\n",
       "  </tbody>\n",
       "</table>\n",
       "</div>"
      ],
      "text/plain": [
       "             Date       Month        Year         Open         High  \\\n",
       "count  252.000000  252.000000  252.000000   252.000000   252.000000   \n",
       "mean    15.861111    6.567460   20.043651  2739.571112  2776.422652   \n",
       "std      8.818249    3.436303    0.204724   530.381767   531.536544   \n",
       "min      1.000000    1.000000   20.000000  1641.510010  1759.449951   \n",
       "25%      8.000000    4.000000   20.000000  2335.102539  2361.192444   \n",
       "50%     16.000000    7.000000   20.000000  3026.800049  3075.994995   \n",
       "75%     23.000000   10.000000   20.000000  3180.635010  3208.937500   \n",
       "max     31.000000   12.000000   21.000000  3547.000000  3552.250000   \n",
       "\n",
       "               Low        Close    Adj Close        Volume  \n",
       "count   252.000000   252.000000   252.000000  2.520000e+02  \n",
       "mean   2699.995594  2739.181781  2739.181781  4.944863e+06  \n",
       "std     520.380001   524.432453   524.432453  1.972080e+06  \n",
       "min    1626.030029  1676.609985  1676.609985  1.451900e+06  \n",
       "25%    2299.414978  2317.347534  2317.347534  3.509825e+06  \n",
       "50%    2972.864991  3008.890015  3008.890015  4.528100e+06  \n",
       "75%    3135.369995  3173.029968  3173.029968  5.792000e+06  \n",
       "max    3486.689941  3531.449951  3531.449951  1.556730e+07  "
      ]
     },
     "execution_count": 5,
     "metadata": {},
     "output_type": "execute_result"
    }
   ],
   "source": [
    "df.describe()"
   ]
  },
  {
   "cell_type": "code",
   "execution_count": 6,
   "metadata": {},
   "outputs": [],
   "source": [
    "df.drop(\"Adj Close\",axis = 1,inplace = True)"
   ]
  },
  {
   "cell_type": "code",
   "execution_count": 7,
   "metadata": {},
   "outputs": [
    {
     "data": {
      "text/html": [
       "<div>\n",
       "<style scoped>\n",
       "    .dataframe tbody tr th:only-of-type {\n",
       "        vertical-align: middle;\n",
       "    }\n",
       "\n",
       "    .dataframe tbody tr th {\n",
       "        vertical-align: top;\n",
       "    }\n",
       "\n",
       "    .dataframe thead th {\n",
       "        text-align: right;\n",
       "    }\n",
       "</style>\n",
       "<table border=\"1\" class=\"dataframe\">\n",
       "  <thead>\n",
       "    <tr style=\"text-align: right;\">\n",
       "      <th></th>\n",
       "      <th>Full_Date</th>\n",
       "      <th>Date</th>\n",
       "      <th>Month</th>\n",
       "      <th>Year</th>\n",
       "      <th>Open</th>\n",
       "      <th>High</th>\n",
       "      <th>Low</th>\n",
       "      <th>Close</th>\n",
       "      <th>Volume</th>\n",
       "    </tr>\n",
       "  </thead>\n",
       "  <tbody>\n",
       "    <tr>\n",
       "      <th>0</th>\n",
       "      <td>21-01-20</td>\n",
       "      <td>21</td>\n",
       "      <td>1</td>\n",
       "      <td>20</td>\n",
       "      <td>1865.000000</td>\n",
       "      <td>1894.27002</td>\n",
       "      <td>1860.000000</td>\n",
       "      <td>1892.000000</td>\n",
       "      <td>3707800</td>\n",
       "    </tr>\n",
       "    <tr>\n",
       "      <th>1</th>\n",
       "      <td>22-01-20</td>\n",
       "      <td>22</td>\n",
       "      <td>1</td>\n",
       "      <td>20</td>\n",
       "      <td>1896.089966</td>\n",
       "      <td>1902.50000</td>\n",
       "      <td>1883.339966</td>\n",
       "      <td>1887.459961</td>\n",
       "      <td>3216300</td>\n",
       "    </tr>\n",
       "    <tr>\n",
       "      <th>2</th>\n",
       "      <td>23-01-20</td>\n",
       "      <td>23</td>\n",
       "      <td>1</td>\n",
       "      <td>20</td>\n",
       "      <td>1885.109985</td>\n",
       "      <td>1889.97998</td>\n",
       "      <td>1872.760010</td>\n",
       "      <td>1884.579956</td>\n",
       "      <td>2484600</td>\n",
       "    </tr>\n",
       "    <tr>\n",
       "      <th>3</th>\n",
       "      <td>24-01-20</td>\n",
       "      <td>24</td>\n",
       "      <td>1</td>\n",
       "      <td>20</td>\n",
       "      <td>1891.369995</td>\n",
       "      <td>1894.98999</td>\n",
       "      <td>1847.439941</td>\n",
       "      <td>1861.640015</td>\n",
       "      <td>3766200</td>\n",
       "    </tr>\n",
       "    <tr>\n",
       "      <th>4</th>\n",
       "      <td>27-01-20</td>\n",
       "      <td>27</td>\n",
       "      <td>1</td>\n",
       "      <td>20</td>\n",
       "      <td>1820.000000</td>\n",
       "      <td>1841.00000</td>\n",
       "      <td>1815.339966</td>\n",
       "      <td>1828.339966</td>\n",
       "      <td>3528500</td>\n",
       "    </tr>\n",
       "  </tbody>\n",
       "</table>\n",
       "</div>"
      ],
      "text/plain": [
       "  Full_Date  Date  Month  Year         Open        High          Low  \\\n",
       "0  21-01-20    21      1    20  1865.000000  1894.27002  1860.000000   \n",
       "1  22-01-20    22      1    20  1896.089966  1902.50000  1883.339966   \n",
       "2  23-01-20    23      1    20  1885.109985  1889.97998  1872.760010   \n",
       "3  24-01-20    24      1    20  1891.369995  1894.98999  1847.439941   \n",
       "4  27-01-20    27      1    20  1820.000000  1841.00000  1815.339966   \n",
       "\n",
       "         Close   Volume  \n",
       "0  1892.000000  3707800  \n",
       "1  1887.459961  3216300  \n",
       "2  1884.579956  2484600  \n",
       "3  1861.640015  3766200  \n",
       "4  1828.339966  3528500  "
      ]
     },
     "execution_count": 7,
     "metadata": {},
     "output_type": "execute_result"
    }
   ],
   "source": [
    "df.head()"
   ]
  },
  {
   "cell_type": "code",
   "execution_count": 8,
   "metadata": {},
   "outputs": [
    {
     "name": "stdout",
     "output_type": "stream",
     "text": [
      "252\n"
     ]
    }
   ],
   "source": [
    "print(len(df)) # length of data set"
   ]
  },
  {
   "cell_type": "code",
   "execution_count": 9,
   "metadata": {},
   "outputs": [],
   "source": [
    "x = df[[\"Open\",\"High\",\"Low\",\"Volume\"]]\n",
    "y = df[\"Close\"]"
   ]
  },
  {
   "cell_type": "code",
   "execution_count": 10,
   "metadata": {},
   "outputs": [],
   "source": [
    "from sklearn.model_selection import train_test_split\n",
    "x_train,x_test,y_train,y_test = train_test_split(x,y,random_state = 0)"
   ]
  },
  {
   "cell_type": "code",
   "execution_count": 11,
   "metadata": {},
   "outputs": [
    {
     "data": {
      "text/plain": [
       "(189, 4)"
      ]
     },
     "execution_count": 11,
     "metadata": {},
     "output_type": "execute_result"
    }
   ],
   "source": [
    "x_train.shape"
   ]
  },
  {
   "cell_type": "code",
   "execution_count": 12,
   "metadata": {},
   "outputs": [
    {
     "data": {
      "text/plain": [
       "(63, 4)"
      ]
     },
     "execution_count": 12,
     "metadata": {},
     "output_type": "execute_result"
    }
   ],
   "source": [
    "x_test.shape"
   ]
  },
  {
   "cell_type": "code",
   "execution_count": 13,
   "metadata": {},
   "outputs": [
    {
     "data": {
      "text/plain": [
       "LinearRegression()"
      ]
     },
     "execution_count": 13,
     "metadata": {},
     "output_type": "execute_result"
    }
   ],
   "source": [
    "reg = linear_model.LinearRegression()\n",
    "reg.fit(x_train,y_train)"
   ]
  },
  {
   "cell_type": "code",
   "execution_count": 14,
   "metadata": {},
   "outputs": [
    {
     "data": {
      "text/plain": [
       "array([-5.77531994e-01,  7.04965279e-01,  8.75817696e-01,  3.48210514e-07])"
      ]
     },
     "execution_count": 14,
     "metadata": {},
     "output_type": "execute_result"
    }
   ],
   "source": [
    "reg.coef_"
   ]
  },
  {
   "cell_type": "code",
   "execution_count": 15,
   "metadata": {},
   "outputs": [
    {
     "data": {
      "text/plain": [
       "-3.1519703320354893"
      ]
     },
     "execution_count": 15,
     "metadata": {},
     "output_type": "execute_result"
    }
   ],
   "source": [
    "reg.intercept_"
   ]
  },
  {
   "cell_type": "code",
   "execution_count": 16,
   "metadata": {},
   "outputs": [],
   "source": [
    "predicted = reg.predict(x_test)"
   ]
  },
  {
   "cell_type": "markdown",
   "metadata": {},
   "source": [
    "## it take 4 argument, here\n",
    "### Open = 1182.35\n",
    "### High = 1184.00\n",
    "### Low = 1167.50\n",
    "### Volume = 2688400"
   ]
  },
  {
   "cell_type": "code",
   "execution_count": 26,
   "metadata": {},
   "outputs": [
    {
     "data": {
      "text/plain": [
       "array([1172.13525507])"
      ]
     },
     "execution_count": 26,
     "metadata": {},
     "output_type": "execute_result"
    }
   ],
   "source": [
    "reg.predict([[1182.35,1184.00,1167.50,2688400]])"
   ]
  },
  {
   "cell_type": "code",
   "execution_count": 17,
   "metadata": {},
   "outputs": [],
   "source": [
    "x = pd.DataFrame({\"Actual Price\":y_test,\"Predicted Price\":predicted})"
   ]
  },
  {
   "cell_type": "markdown",
   "metadata": {},
   "source": [
    "## Difference between Actual Price & Predicted Price"
   ]
  },
  {
   "cell_type": "code",
   "execution_count": 18,
   "metadata": {},
   "outputs": [
    {
     "data": {
      "text/html": [
       "<div>\n",
       "<style scoped>\n",
       "    .dataframe tbody tr th:only-of-type {\n",
       "        vertical-align: middle;\n",
       "    }\n",
       "\n",
       "    .dataframe tbody tr th {\n",
       "        vertical-align: top;\n",
       "    }\n",
       "\n",
       "    .dataframe thead th {\n",
       "        text-align: right;\n",
       "    }\n",
       "</style>\n",
       "<table border=\"1\" class=\"dataframe\">\n",
       "  <thead>\n",
       "    <tr style=\"text-align: right;\">\n",
       "      <th></th>\n",
       "      <th>Actual Price</th>\n",
       "      <th>Predicted Price</th>\n",
       "    </tr>\n",
       "  </thead>\n",
       "  <tbody>\n",
       "    <tr>\n",
       "      <th>158</th>\n",
       "      <td>3368.000000</td>\n",
       "      <td>3339.024525</td>\n",
       "    </tr>\n",
       "    <tr>\n",
       "      <th>83</th>\n",
       "      <td>2449.330078</td>\n",
       "      <td>2474.221463</td>\n",
       "    </tr>\n",
       "    <tr>\n",
       "      <th>170</th>\n",
       "      <td>3128.989990</td>\n",
       "      <td>3084.110293</td>\n",
       "    </tr>\n",
       "    <tr>\n",
       "      <th>101</th>\n",
       "      <td>2572.679932</td>\n",
       "      <td>2557.182566</td>\n",
       "    </tr>\n",
       "    <tr>\n",
       "      <th>150</th>\n",
       "      <td>3307.459961</td>\n",
       "      <td>3322.792433</td>\n",
       "    </tr>\n",
       "    <tr>\n",
       "      <th>...</th>\n",
       "      <td>...</td>\n",
       "      <td>...</td>\n",
       "    </tr>\n",
       "    <tr>\n",
       "      <th>221</th>\n",
       "      <td>3186.729980</td>\n",
       "      <td>3208.926038</td>\n",
       "    </tr>\n",
       "    <tr>\n",
       "      <th>15</th>\n",
       "      <td>2150.800049</td>\n",
       "      <td>2168.400752</td>\n",
       "    </tr>\n",
       "    <tr>\n",
       "      <th>152</th>\n",
       "      <td>3441.850098</td>\n",
       "      <td>3426.331618</td>\n",
       "    </tr>\n",
       "    <tr>\n",
       "      <th>74</th>\n",
       "      <td>2351.260010</td>\n",
       "      <td>2346.425001</td>\n",
       "    </tr>\n",
       "    <tr>\n",
       "      <th>7</th>\n",
       "      <td>1870.680054</td>\n",
       "      <td>1867.102142</td>\n",
       "    </tr>\n",
       "  </tbody>\n",
       "</table>\n",
       "<p>63 rows × 2 columns</p>\n",
       "</div>"
      ],
      "text/plain": [
       "     Actual Price  Predicted Price\n",
       "158   3368.000000      3339.024525\n",
       "83    2449.330078      2474.221463\n",
       "170   3128.989990      3084.110293\n",
       "101   2572.679932      2557.182566\n",
       "150   3307.459961      3322.792433\n",
       "..            ...              ...\n",
       "221   3186.729980      3208.926038\n",
       "15    2150.800049      2168.400752\n",
       "152   3441.850098      3426.331618\n",
       "74    2351.260010      2346.425001\n",
       "7     1870.680054      1867.102142\n",
       "\n",
       "[63 rows x 2 columns]"
      ]
     },
     "execution_count": 18,
     "metadata": {},
     "output_type": "execute_result"
    }
   ],
   "source": [
    "x"
   ]
  },
  {
   "cell_type": "code",
   "execution_count": 19,
   "metadata": {},
   "outputs": [
    {
     "data": {
      "text/plain": [
       "0.9971692634840192"
      ]
     },
     "execution_count": 19,
     "metadata": {},
     "output_type": "execute_result"
    }
   ],
   "source": [
    "reg.score(x_test,y_test)"
   ]
  },
  {
   "cell_type": "code",
   "execution_count": 20,
   "metadata": {},
   "outputs": [],
   "source": [
    "import math"
   ]
  },
  {
   "cell_type": "code",
   "execution_count": 21,
   "metadata": {},
   "outputs": [
    {
     "name": "stdout",
     "output_type": "stream",
     "text": [
      "Mean Absolute Error :  19.85344464521153\n"
     ]
    }
   ],
   "source": [
    "print(\"Mean Absolute Error : \",metrics.mean_absolute_error(y_test,predicted))"
   ]
  },
  {
   "cell_type": "code",
   "execution_count": 22,
   "metadata": {},
   "outputs": [
    {
     "name": "stdout",
     "output_type": "stream",
     "text": [
      "Mean Squared Error :  721.3919587470193\n"
     ]
    }
   ],
   "source": [
    "print(\"Mean Squared Error : \",metrics.mean_squared_error(y_test,predicted))"
   ]
  },
  {
   "cell_type": "code",
   "execution_count": 23,
   "metadata": {},
   "outputs": [
    {
     "name": "stdout",
     "output_type": "stream",
     "text": [
      "Root Mean Squared Error :  26.85874082579113\n"
     ]
    }
   ],
   "source": [
    "print(\"Root Mean Squared Error : \",math.sqrt(metrics.mean_squared_error(y_test,predicted)))"
   ]
  },
  {
   "cell_type": "code",
   "execution_count": 24,
   "metadata": {},
   "outputs": [],
   "source": [
    "graph = x.head(20)"
   ]
  },
  {
   "cell_type": "code",
   "execution_count": 25,
   "metadata": {},
   "outputs": [
    {
     "data": {
      "text/plain": [
       "<AxesSubplot:>"
      ]
     },
     "execution_count": 25,
     "metadata": {},
     "output_type": "execute_result"
    },
    {
     "data": {
      "image/png": "[encoded data removed]",
      "text/plain": [
       "<Figure size 1152x432 with 1 Axes>"
      ]
     },
     "metadata": {
      "needs_background": "light"
     },
     "output_type": "display_data"
    }
   ],
   "source": [
    "graph.plot(kind = \"bar\",figsize = (16,6))"
   ]
  },
  {
   "cell_type": "code",
   "execution_count": null,
   "metadata": {},
   "outputs": [],
   "source": []
  }
 ],
 "metadata": {
  "kernelspec": {
   "display_name": "Python 3",
   "language": "python",
   "name": "python3"
  },
  "language_info": {
   "codemirror_mode": {
    "name": "ipython",
    "version": 3
   },
   "file_extension": ".py",
   "mimetype": "text/x-python",
   "name": "python",
   "nbconvert_exporter": "python",
   "pygments_lexer": "ipython3",
   "version": "3.8.5"
  }
 },
 "nbformat": 4,
 "nbformat_minor": 4
}
